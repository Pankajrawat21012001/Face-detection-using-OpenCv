{
 "cells": [
  {
   "cell_type": "code",
   "execution_count": 1,
   "metadata": {},
   "outputs": [],
   "source": [
    "import cv2"
   ]
  },
  {
   "cell_type": "code",
   "execution_count": 2,
   "metadata": {},
   "outputs": [
    {
     "name": "stdout",
     "output_type": "stream",
     "text": [
      "[331  38  97  97]\n",
      "Code Completed\n"
     ]
    }
   ],
   "source": [
    "import cv2\n",
    "#GETTING ONLY ONE FACE DETECTION ONLY ONE AT A TIME\n",
    "trained_face_data=cv2.CascadeClassifier(\"haarcascade_frontalface_default.xml\")       #file from gitub\n",
    "img=cv2.imread(\"face.jpg\")         #any image with face\n",
    "\n",
    "#Must convert to grayscale\n",
    "grayscaled_img=cv2.cvtColor(img, cv2.COLOR_BGR2GRAY)\n",
    "\n",
    "#detect faces\n",
    "face_coordinates = trained_face_data.detectMultiScale(grayscaled_img)\n",
    "\n",
    "#Draw rectangle around the faces\n",
    "a,b,c,d=face_coordinates[0]\n",
    "cv2.rectangle(img,(a,b),(a+c,b+d),(0,255,0),2)\n",
    "print(face_coordinates[0])\n",
    "\n",
    "\n",
    "cv2.imshow(\"Clever Programmer Face Detector\",img)\n",
    "cv2.waitKey()\n",
    "\n",
    "print(\"Code Completed\")"
   ]
  },
  {
   "cell_type": "code",
   "execution_count": 21,
   "metadata": {},
   "outputs": [
    {
     "name": "stdout",
     "output_type": "stream",
     "text": [
      "[331  38  97  97]\n",
      "Code Completed\n"
     ]
    }
   ],
   "source": [
    "#GETTING ONLY all that he can get FACE DETECTION\n",
    "trained_face_data=cv2.CascadeClassifier(\"haarcascade_frontalface_default.xml\")       #file from gitub\n",
    "img=cv2.imread(\"face.jpg\")         #any image with face\n",
    "\n",
    "#Must convert to grayscale\n",
    "grayscaled_img=cv2.cvtColor(img, cv2.COLOR_BGR2GRAY)\n",
    "\n",
    "#detect faces\n",
    "face_coordinates = trained_face_data.detectMultiScale(grayscaled_img)\n",
    "\n",
    "#Draw rectangle around the faces\n",
    "for a,b,c,d in face_coordinates:\n",
    "    cv2.rectangle(img,(a,b),(a+c,b+d),(0,255,0),2)\n",
    "print(face_coordinates[0])\n",
    "\n",
    "\n",
    "cv2.imshow(\"Clever Programmer Face Detector\",img)\n",
    "cv2.waitKey()\n",
    "\n",
    "print(\"Code Completed\")"
   ]
  },
  {
   "cell_type": "code",
   "execution_count": 23,
   "metadata": {},
   "outputs": [
    {
     "name": "stdout",
     "output_type": "stream",
     "text": [
      "Code Completed\n"
     ]
    }
   ],
   "source": [
    "#GETTING ONLY all that he can get FACE DETECTION COLOURFUL\n",
    "trained_face_data=cv2.CascadeClassifier(\"haarcascade_frontalface_default.xml\")       #file from gitub\n",
    "from random import randrange\n",
    "img=cv2.imread(\"face.jpg\")         #any image with face\n",
    "\n",
    "#Must convert to grayscale\n",
    "grayscaled_img=cv2.cvtColor(img, cv2.COLOR_BGR2GRAY)\n",
    "\n",
    "#detect faces\n",
    "face_coordinates = trained_face_data.detectMultiScale(grayscaled_img)\n",
    "\n",
    "#Draw rectangle around the faces\n",
    "for a,b,c,d in face_coordinates:\n",
    "    cv2.rectangle(img,(a,b),(a+c,b+d),(randrange(100,256),randrange(100,256),randrange(100,256)),2)\n",
    "\n",
    "\n",
    "cv2.imshow(\"Clever Programmer Face Detector\",img)\n",
    "cv2.waitKey()\n",
    "\n",
    "print(\"Code Completed\")"
   ]
  },
  {
   "cell_type": "code",
   "execution_count": 27,
   "metadata": {},
   "outputs": [
    {
     "name": "stdout",
     "output_type": "stream",
     "text": [
      "Code Completed\n"
     ]
    }
   ],
   "source": [
    "#MY PHOTO\n",
    "trained_face_data=cv2.CascadeClassifier(\"haarcascade_frontalface_default.xml\")       #file from gitub\n",
    "from random import randrange\n",
    "img=cv2.imread(\"my photo.png\")         #any image with face\n",
    "\n",
    "#Must convert to grayscale\n",
    "grayscaled_img=cv2.cvtColor(img, cv2.COLOR_BGR2GRAY)\n",
    "\n",
    "#detect faces\n",
    "face_coordinates = trained_face_data.detectMultiScale(grayscaled_img)\n",
    "\n",
    "#Draw rectangle around the faces\n",
    "for a,b,c,d in face_coordinates:\n",
    "    cv2.rectangle(img,(a,b),(a+c,b+d),(randrange(100,256),randrange(100,256),randrange(100,256)),2)\n",
    "\n",
    "\n",
    "cv2.imshow(\"Clever Programmer Face Detector\",img)\n",
    "cv2.waitKey()\n",
    "\n",
    "print(\"Code Completed\")"
   ]
  },
  {
   "cell_type": "code",
   "execution_count": 1,
   "metadata": {},
   "outputs": [
    {
     "name": "stdout",
     "output_type": "stream",
     "text": [
      "Code Completed\n"
     ]
    }
   ],
   "source": [
    "# VIDEO MAY\n",
    "import cv2\n",
    "from random import randrange\n",
    "trained_face_data=cv2.CascadeClassifier(\"haarcascade_frontalface_default.xml\")       #file from gitub\n",
    "\n",
    "#Must convert to grayscale\n",
    "video=cv2.VideoCapture(\"face video.mp4\")   #to get camera put 0\n",
    "\n",
    "while True:\n",
    "    Successful_frame_read,frame=video.read()\n",
    "    grayscaled_img=cv2.cvtColor(frame, cv2.COLOR_BGR2GRAY)\n",
    "    \n",
    "\n",
    "    ##detect faces\n",
    "    face_coordinates = trained_face_data.detectMultiScale(grayscaled_img)\n",
    "\n",
    "    ##Draw rectangle around the faces\n",
    "    for a,b,c,d in face_coordinates:\n",
    "        cv2.rectangle(frame,(a,b),(a+c,b+d),(randrange(100,256),\n",
    "                                           randrange(100,256),\n",
    "                                           randrange(100,256)),2)\n",
    "    cv2.imshow(\"Clever Programmer Face Detector\",frame)\n",
    "    key=cv2.waitKey(10)\n",
    "    \n",
    "    \n",
    "    #stop if Q key is pressed\n",
    "    if key==81 or key==113:\n",
    "        break\n",
    "video.release()\n",
    "print(\"Code Completed\")"
   ]
  },
  {
   "cell_type": "code",
   "execution_count": null,
   "metadata": {},
   "outputs": [],
   "source": []
  },
  {
   "cell_type": "code",
   "execution_count": null,
   "metadata": {},
   "outputs": [],
   "source": []
  },
  {
   "cell_type": "code",
   "execution_count": 2,
   "metadata": {},
   "outputs": [
    {
     "ename": "KeyboardInterrupt",
     "evalue": "",
     "output_type": "error",
     "traceback": [
      "\u001b[1;31m---------------------------------------------------------------------------\u001b[0m",
      "\u001b[1;31mKeyboardInterrupt\u001b[0m                         Traceback (most recent call last)",
      "\u001b[1;32m<ipython-input-2-25d188c680b5>\u001b[0m in \u001b[0;36m<module>\u001b[1;34m\u001b[0m\n\u001b[0;32m     22\u001b[0m                                            randrange(100,256)),2)\n\u001b[0;32m     23\u001b[0m     \u001b[0mcv2\u001b[0m\u001b[1;33m.\u001b[0m\u001b[0mimshow\u001b[0m\u001b[1;33m(\u001b[0m\u001b[1;34m\"Clever Programmer Face Detector\"\u001b[0m\u001b[1;33m,\u001b[0m\u001b[0mframe\u001b[0m\u001b[1;33m)\u001b[0m\u001b[1;33m\u001b[0m\u001b[1;33m\u001b[0m\u001b[0m\n\u001b[1;32m---> 24\u001b[1;33m     \u001b[0mkey\u001b[0m\u001b[1;33m=\u001b[0m\u001b[0mcv2\u001b[0m\u001b[1;33m.\u001b[0m\u001b[0mwaitKey\u001b[0m\u001b[1;33m(\u001b[0m\u001b[1;36m10\u001b[0m\u001b[1;33m)\u001b[0m\u001b[1;33m\u001b[0m\u001b[1;33m\u001b[0m\u001b[0m\n\u001b[0m\u001b[0;32m     25\u001b[0m \u001b[1;33m\u001b[0m\u001b[0m\n\u001b[0;32m     26\u001b[0m \u001b[1;33m\u001b[0m\u001b[0m\n",
      "\u001b[1;31mKeyboardInterrupt\u001b[0m: "
     ]
    }
   ],
   "source": [
    "# VIDEO MAY\n",
    "import cv2\n",
    "from random import randrange\n",
    "trained_face_data=cv2.CascadeClassifier(\"haarcascade_frontalface_default.xml\")\n",
    "#file from gitub\n",
    "\n",
    "#Must convert to grayscale\n",
    "video=cv2.VideoCapture(0)   #to get camera put 0\n",
    "\n",
    "while True:\n",
    "    Successful_frame_read,frame=video.read()\n",
    "    grayscaled_img=cv2.cvtColor(frame, cv2.COLOR_BGR2GRAY)\n",
    "    \n",
    "\n",
    "    ##detect faces\n",
    "    face_coordinates = trained_face_data.detectMultiScale(grayscaled_img)\n",
    "\n",
    "    ##Draw rectangle around the faces\n",
    "    for a,b,c,d in face_coordinates:\n",
    "        cv2.rectangle(frame,(a,b),(a+c,b+d),(randrange(100,256),\n",
    "                                           randrange(100,256),\n",
    "                                           randrange(100,256)),2)\n",
    "    cv2.imshow(\"Clever Programmer Face Detector\",frame)\n",
    "    key=cv2.waitKey(10)\n",
    "    \n",
    "    \n",
    "    #stop if Q key is pressed\n",
    "    if key==81 or key==113:\n",
    "        break\n",
    "video.release()\n",
    "print(\"Code Completed\")"
   ]
  },
  {
   "cell_type": "code",
   "execution_count": null,
   "metadata": {},
   "outputs": [],
   "source": []
  }
 ],
 "metadata": {
  "kernelspec": {
   "display_name": "Python 3",
   "language": "python",
   "name": "python3"
  },
  "language_info": {
   "codemirror_mode": {
    "name": "ipython",
    "version": 3
   },
   "file_extension": ".py",
   "mimetype": "text/x-python",
   "name": "python",
   "nbconvert_exporter": "python",
   "pygments_lexer": "ipython3",
   "version": "3.8.5"
  }
 },
 "nbformat": 4,
 "nbformat_minor": 4
}
